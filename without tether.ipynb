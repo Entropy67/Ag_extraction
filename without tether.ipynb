{
 "cells": [
  {
   "cell_type": "code",
   "execution_count": 1,
   "metadata": {},
   "outputs": [],
   "source": [
    "import numpy as np\n",
    "import script.model.bonds as bd\n",
    "import script.model.model as sim\n",
    "import script.model.utility as utl\n",
    "import copy\n",
    "import scipy.special as spe\n",
    "from importlib import reload\n",
    "import matplotlib.pyplot as plt\n",
    "\n",
    "from scipy.special import binom\n",
    "\n"
   ]
  },
  {
   "cell_type": "code",
   "execution_count": 62,
   "metadata": {},
   "outputs": [],
   "source": [
    "reload(sim)\n",
    "prm0 = sim.prm_dict.copy()\n",
    "\n",
    "prm0[\"scheme\"] = \"step\"\n",
    "prm0[\"tc\"] = 0\n",
    "prm0[\"l0_list\"] = [100, 0]\n",
    "prm0[\"f0\"] = 10 \n",
    "prm0[\"elist\"] = [100, 10, 100, 10]\n",
    "prm0[\"ton\"] = 1e20\n",
    "prm0['tm'] = 1e4\n"
   ]
  },
  {
   "cell_type": "code",
   "execution_count": 88,
   "metadata": {},
   "outputs": [],
   "source": [
    "prm0[\"elist\"] = [100, 13, 100, 10]\n",
    "sto1 = sim.Stoch(prm_dict=prm0)\n",
    "\n",
    "prm0[\"elist\"] = [100, 14, 100, 10]\n",
    "sto2 = sim.Stoch(prm_dict=prm0)\n"
   ]
  },
  {
   "cell_type": "code",
   "execution_count": 89,
   "metadata": {},
   "outputs": [
    {
     "name": "stdout",
     "output_type": "stream",
     "text": [
      "Info:\n",
      "  Init population: [APC-Ag-BCR, Ag-BCR] =  [100, 0, 0, 0]\n",
      "  reaction rate: \n",
      "  Bond\tAPC\tBCR\n",
      "step= 1 ||\r",
      "step= 2 ||\r",
      "step= 3 ||\r",
      "step= 4 ||\r",
      "unfinished!\n",
      "current time:  23623.869308601992\n",
      "current step:  4\n",
      "(5, 1) (5, 4)\n",
      "96.0\n",
      "Info:\n",
      "  Init population: [APC-Ag-BCR, Ag-BCR] =  [100, 0, 0, 0]\n",
      "  reaction rate: \n",
      "  Bond\tAPC\tBCR\n",
      "step= 1 ||\r",
      "unfinished!\n",
      "current time:  21615.08680818651\n",
      "current step:  1\n",
      "(2, 1) (2, 4)\n",
      "99.0\n"
     ]
    }
   ],
   "source": [
    "t1, spec1 = sto1.run1(output=True, storeData=True)\n",
    "t2, spec2 = sto2.run1(output=True, storeData=True)\n",
    "pass"
   ]
  },
  {
   "cell_type": "code",
   "execution_count": 90,
   "metadata": {},
   "outputs": [
    {
     "data": {
      "image/png": "[encoded data removed]",
      "text/plain": [
       "<Figure size 250x200 with 1 Axes>"
      ]
     },
     "metadata": {
      "needs_background": "light"
     },
     "output_type": "display_data"
    }
   ],
   "source": [
    "fig, ax = plt.subplots(figsize=(2.5, 2), dpi=100)\n",
    "plt.plot(t1/1e3, spec1[:, 0], '-k')\n",
    "plt.plot(t2/1e3, spec2[:, 0], '-r')\n",
    "ax.set(xlim=(0, 15), ylim=(50, 100), xlabel='time (min)', ylabel='cluster size')\n",
    "plt.legend(['low aff', 'high aff'], fontsize=8)\n",
    "plt.show()"
   ]
  },
  {
   "cell_type": "code",
   "execution_count": 37,
   "metadata": {},
   "outputs": [],
   "source": [
    "def GetAcc(eb_list, prm, n=200, output=False, num_competes=1):\n",
    "    \"\"\"\n",
    "        args:\n",
    "            eb_list: affinity distribution of B cells\n",
    "            prm: default parameter (fixing other parameters)\n",
    "            n: number of trails\n",
    "        return:\n",
    "            acc: the probability to rank the best B cell highest\n",
    "    \"\"\"\n",
    "    nacc_count = 0\n",
    "    tacc_count = 0\n",
    "    macc_count = 0\n",
    "    best_id = np.argmax(eb_list)\n",
    "    \n",
    "    num_cell = len(eb_list)\n",
    "    sto_list = []\n",
    "    for i, eb in enumerate(eb_list):\n",
    "        sto_list.append(sim.Stoch(copy.deepcopy(prm)))\n",
    "        sto_list[i].prm_dict[\"elist\"][1] = eb\n",
    "        sto_list[i].setup()\n",
    "        sto_list[i].loadSharing=False\n",
    "    if output:\n",
    "        print(\"*\"*15)\n",
    "        print(\"init complete\")\n",
    "        print(\"eblist\", eb_list)\n",
    "        print(\"best id=\", best_id)\n",
    "        print(\"check eb:\", end=\"  \")\n",
    "        for stoi in sto_list:\n",
    "            print(\"{0:.2f}\".format(stoi.bonds.elist[1]), end=\", \")\n",
    "        print(\"\")\n",
    "    for i in range(n):\n",
    "        nag_list = np.zeros(num_cell)\n",
    "        tend_list = np.zeros(num_cell)\n",
    "        m_list = np.zeros(num_cell)\n",
    "        if output and i>1:\n",
    "            sim.printProgress(i, n)\n",
    "        for j, stoi in enumerate(sto_list):\n",
    "            stoi.setup()\n",
    "            nag, tend = stoi.run1(output=False, storeData=False)\n",
    "            nag_list[j] = nag[0]\n",
    "            tend_list[j]= tend\n",
    "            m_list[j] = stoi.spec_record[0]\n",
    "            #if np.isnan(nag[0]):\n",
    "            #    print(\"simulation not finished!\")\n",
    "            #    return np.nan, np.nan\n",
    "        #if best_id == np.random.choice(np.flatnonzero(nag_list == nag_list.max())): #np.argmax(nag_list):\n",
    "        #    nacc_count += 1\n",
    "\n",
    "        #if best_id == np.argmax(tend_list):\n",
    "        #    tacc_count += 1\n",
    "\n",
    "        if best_id == np.random.choice(np.flatnonzero(\n",
    "            m_list == m_list.max()\n",
    "        )):\n",
    "            macc_count +=1\n",
    "        \n",
    "        if output and i==1:\n",
    "            print(\"example 1:\")\n",
    "            print(\"macc_count = \", macc_count)\n",
    "    \n",
    "    if output:\n",
    "        print(\"\")\n",
    "        print(\"macc_count=\",macc_count )\n",
    "    return macc_count / n\n",
    "\n",
    "def positive_rate(nc, x, n):\n",
    "    s = 0\n",
    "    for i in range(nc, n+1):\n",
    "        s += spe.binom(n, i)*x**i/(1+x)**n\n",
    "    return s\n",
    "\n",
    "def acc_n(x, n, alpha):\n",
    "    s = 0\n",
    "    for nc in range(n+1):\n",
    "        s += (positive_rate(nc, alpha*x, n) - positive_rate(nc + 1, alpha*x, n)) *\\\n",
    "        (positive_rate(nc, x, n) + positive_rate(nc + 1, x, n))/2.0\n",
    "    return s\n",
    "\n",
    "def tau(ta, tb, f=0, xa=1.5, xb=2.0):\n",
    "    return ta*tb*np.exp(-f*(xa+xb)/4.012)/(ta*np.exp(-f*xa/4.012) + tb*np.exp(-f*xb/4.012))\n",
    "\n",
    "def acc_t(x, n, alpha):\n",
    "    def integrand(y):\n",
    "        r = tau(1, alpha*x)/tau(1, x)\n",
    "        return (1-y**r)**n * (1-y)**(n-1)\n",
    "    \n",
    "    return 1- n*(quad(integrand, 0, 1)[0])\n",
    "\n",
    "\n",
    "class scan_eb1:\n",
    "    \n",
    "    def __init__(self, n=200):\n",
    "        self.numRun = n\n",
    "        self.init_dis = \"random\" ## or fixed\n",
    "        self.prmlist = []\n",
    "        self.m_error_list, self.m_error_std_list = [], []\n",
    "        pass\n",
    "    \n",
    "    def run_eb(self, prm, eblist = np.arange(0, 11, 1), dE=0.2, num_cell=5, output=False):\n",
    "        for eb in eblist:\n",
    "            self._run(prm, eb, dE, num_cell, output=output)\n",
    "            self.prmlist.append(eb)\n",
    "        #return self.prmlist, self.nerror_list, self.nerror_std_list, self.terror_list, self.terror_std_list\n",
    "        return\n",
    "    \n",
    "    def _run(self, prm, eb, dE, num_cell, num_run = 10, output=False):\n",
    "        m_error_tmp = []\n",
    "        if self.init_dis==\"fixed\":\n",
    "            eb_distribution =[eb]*(num_cell-1) + [eb+dE]\n",
    "        elif self.init_dis == \"uniform\":\n",
    "            eb_distribution = np.linspace(eb-dE, eb, num_cell)\n",
    "        for j in range(num_run):\n",
    "            if self.init_dis==\"random\":\n",
    "                eb_distribution = np.random.normal(eb, dE, num_cell)\n",
    "            sim.printProgress(j, num_run)\n",
    "            m_error = GetAcc(eb_distribution, prm, n= self.numRun, output=output)\n",
    "            m_error_tmp.append(m_error)\n",
    "        self.m_error_list.append(np.mean(m_error_tmp))\n",
    "        self.m_error_std_list.append(np.std(m_error_tmp))\n",
    "        print(\"eb1={0:.2f}, de={1:.2f},  m acc={2:.3f}[{3:.4f}]\".\n",
    "                  format(\n",
    "                      eb, dE, np.mean(m_error_tmp),np.mean(m_error_tmp), \n",
    "                  ))\n",
    "        return\n",
    "    \n",
    "    def run_de(self, prm, delist = np.linspace(0, 1, 11), eb=5, num_cell = 5, output=False):\n",
    "        \n",
    "        for de in delist:\n",
    "            self._run(prm, eb, de, num_cell, output=output)\n",
    "            self.prmlist.append(de)\n",
    "        return\n",
    "    \n",
    "    def run_nb(self, prm, nBlist = np.arange(2, 15, 1, dtype=int), eb=5, dE=0.3, output=False):\n",
    "        for nb in nBlist:\n",
    "            self._run(prm, eb, dE, nb, output=output)\n",
    "            self.prmlist.append(nb)\n",
    "        return"
   ]
  },
  {
   "cell_type": "code",
   "execution_count": 38,
   "metadata": {},
   "outputs": [
    {
     "name": "stdout",
     "output_type": "stream",
     "text": [
      "eb1=5.00, de=0.10,  m acc=0.499[0.4992]................90%\n",
      "eb1=6.00, de=0.10,  m acc=0.498[0.4982]................90%\n",
      "eb1=7.00, de=0.10,  m acc=0.523[0.5226]................90%\n",
      "eb1=8.00, de=0.10,  m acc=0.498[0.4984]................90%\n",
      "eb1=9.00, de=0.10,  m acc=0.498[0.4978]................90%\n",
      "eb1=10.00, de=0.10,  m acc=0.496[0.4958]...............90%\n",
      "eb1=11.00, de=0.10,  m acc=0.502[0.5018]...............90%\n",
      "eb1=12.00, de=0.10,  m acc=0.503[0.5032]...............90%\n",
      "eb1=13.00, de=0.10,  m acc=0.581[0.5810]...............90%\n",
      "eb1=14.00, de=0.10,  m acc=0.598[0.5976]...............90%\n",
      "eb1=15.00, de=0.10,  m acc=0.551[0.5512]...............90%\n",
      "eb1=16.00, de=0.10,  m acc=0.538[0.5380]...............90%\n"
     ]
    }
   ],
   "source": [
    "prm0[\"l0_list\"] = [20, 0]\n",
    "seE2_comp_n20 = scan_eb1()\n",
    "seE2_comp_n20.numRun = 500\n",
    "seE2_comp_n20.init_dis = \"fixed\"\n",
    "seE2_comp_n20.run_eb(prm0, eblist = np.arange(5, 20.5, 1.0), num_cell=2, dE=0.1)\n",
    "\n",
    "\n"
   ]
  },
  {
   "cell_type": "code",
   "execution_count": 53,
   "metadata": {},
   "outputs": [
    {
     "name": "stdout",
     "output_type": "stream",
     "text": [
      "eb1=5.00, de=0.10,  m acc=0.509[0.5088]................90%\n",
      "eb1=6.00, de=0.10,  m acc=0.497[0.4974]................90%\n",
      "eb1=7.00, de=0.10,  m acc=0.491[0.4912]................90%\n",
      "eb1=8.00, de=0.10,  m acc=0.490[0.4902]................90%\n",
      "eb1=9.00, de=0.10,  m acc=0.502[0.5020]................90%\n",
      "eb1=10.00, de=0.10,  m acc=0.504[0.5036]...............90%\n",
      "eb1=11.00, de=0.10,  m acc=0.591[0.5908]...............90%\n",
      "eb1=12.00, de=0.10,  m acc=0.578[0.5782]...............90%\n",
      "eb1=13.00, de=0.10,  m acc=0.563[0.5626]...............90%\n",
      "eb1=14.00, de=0.10,  m acc=0.534[0.5340]...............90%\n",
      "eb1=15.00, de=0.10,  m acc=0.517[0.5166]...............90%\n",
      "eb1=16.00, de=0.10,  m acc=0.515[0.5152]...............90%\n"
     ]
    }
   ],
   "source": [
    "prm0[\"l0_list\"] = [20, 0]\n",
    "prm0['tm'] = 1e3\n",
    "seE2_n20_t2 = scan_eb1()\n",
    "seE2_n20_t2.numRun = 500\n",
    "seE2_n20_t2.init_dis = \"fixed\"\n",
    "seE2_n20_t2.run_eb(prm0, eblist = np.arange(5, 16.5, 1.0), num_cell=2, dE=0.1)\n",
    "\n"
   ]
  },
  {
   "cell_type": "code",
   "execution_count": 56,
   "metadata": {},
   "outputs": [
    {
     "name": "stdout",
     "output_type": "stream",
     "text": [
      "eb1=17.00, de=0.10,  m acc=0.503[0.5034]...............90%\n",
      "eb1=18.00, de=0.10,  m acc=0.504[0.5036]...............90%\n",
      "eb1=19.00, de=0.10,  m acc=0.497[0.4970]...............90%\n",
      "eb1=20.00, de=0.10,  m acc=0.501[0.5006]...............90%\n"
     ]
    }
   ],
   "source": [
    "seE2_n20_t2.run_eb(prm0, eblist = np.arange(17, 20.5, 1.0), num_cell=2, dE=0.1)\n",
    "\n"
   ]
  },
  {
   "cell_type": "code",
   "execution_count": 51,
   "metadata": {},
   "outputs": [],
   "source": [
    "\n",
    "def make_plot(seE, nB, dE=0.1, N=100, ea=10, f0=0, ylim=(0, 1), show_comp=False):\n",
    "    delist = np.linspace(-5, 5, 100)\n",
    "    fig, ax = plt.subplots(figsize=(3.5, 2.3), dpi=200)\n",
    "    ax.errorbar(np.asarray(seE.prmlist), seE.m_error_list, yerr=seE.m_error_std_list, fmt='-oC0', ms=3, capsize=3)\n",
    "    \n",
    "    ax.set(xlim=(5, 20), ylim=ylim)\n",
    "    ax.set(xlabel=\"B cell affinity $E_b$ (kT)\", ylabel=\"fidelity\")\n",
    "    plt.tight_layout()\n",
    "    \n",
    "    plt.show()\n",
    "    \n",
    "#make_plot(seE5, 5, N=200)"
   ]
  },
  {
   "cell_type": "code",
   "execution_count": 91,
   "metadata": {},
   "outputs": [
    {
     "data": {
      "image/png": "[encoded data removed]",
      "text/plain": [
       "<Figure size 700x460 with 1 Axes>"
      ]
     },
     "metadata": {
      "needs_background": "light"
     },
     "output_type": "display_data"
    }
   ],
   "source": [
    "# make_plot(seE2_comp_n20, 2, ylim=(0.4, 0.8))\n",
    "fig, ax = plt.subplots(figsize=(3.5, 2.3), dpi=200)\n",
    "ax.errorbar(np.asarray(seE2_n20_t2.prmlist), seE2_n20_t2.m_error_list, yerr=seE2_n20_t2.m_error_std_list, fmt='-oC1', ms=3, capsize=3)\n",
    "ax.errorbar(np.asarray(seE2_comp_n20.prmlist), seE2_comp_n20.m_error_list, yerr=seE2_comp_n20.m_error_std_list, fmt='-oC0', ms=3, capsize=3)\n",
    "\n",
    "\n",
    "ax.set(xlim=(5, 20), ylim=(0.4, 0.7))\n",
    "ax.set(xlabel=\"B cell affinity $E_b$ (kT)\", ylabel=\"fidelity\")\n",
    "plt.legend(['$t_m$=$1$min', '$t_m$=$10$min'], fontsize=7)\n",
    "plt.tight_layout()\n"
   ]
  },
  {
   "cell_type": "code",
   "execution_count": null,
   "metadata": {},
   "outputs": [],
   "source": []
  }
 ],
 "metadata": {
  "kernelspec": {
   "display_name": "Python 3",
   "language": "python",
   "name": "python3"
  },
  "language_info": {
   "codemirror_mode": {
    "name": "ipython",
    "version": 3
   },
   "file_extension": ".py",
   "mimetype": "text/x-python",
   "name": "python",
   "nbconvert_exporter": "python",
   "pygments_lexer": "ipython3",
   "version": "3.6.4"
  }
 },
 "nbformat": 4,
 "nbformat_minor": 2
}
